{
 "cells": [
  {
   "cell_type": "code",
   "execution_count": null,
   "id": "40870c5a",
   "metadata": {},
   "outputs": [],
   "source": [
    "import boto3\n",
    "import pandas as pd\n",
    "from io import StringIO\n",
    "import configparser\n",
    "import time"
   ]
  },
  {
   "cell_type": "code",
   "execution_count": null,
   "id": "9816004b",
   "metadata": {},
   "outputs": [],
   "source": [
    "config = configparser.ConfigParser()\n",
    "config.read(\"aws.conf\")"
   ]
  },
  {
   "cell_type": "code",
   "execution_count": null,
   "id": "d103d444",
   "metadata": {},
   "outputs": [],
   "source": [
    "AWS_ACCESS_KEY = config[\"AWS\"][\"AWS_ACCESS_KEY\"]\n",
    "AWS_SECRET_KEY = config[\"AWS\"][\"AWS_SECRET_KEY\"]\n",
    "AWS_REGION = config[\"AWS\"][\"AWS_REGION\"]\n",
    "SCHEMA_NAME = config[\"S3\"][\"SCHEMA_NAME\"]\n",
    "S3_STAGING_DIR = config[\"S3\"][\"S3_STAGING_DIR\"]\n",
    "S3_BUCKET_NAME = config[\"S3\"][\"S3_BUCKET_NAME\"]\n",
    "S3_OUTPUT_DIRECTORY = config[\"S3\"][\"S3_OUTPUT_DIRECTORY\"]"
   ]
  },
  {
   "cell_type": "code",
   "execution_count": null,
   "id": "2080316b",
   "metadata": {},
   "outputs": [],
   "source": [
    "athena_client = boto3.client(\n",
    "    \"athena\",\n",
    "    aws_access_key_id=AWS_ACCESS_KEY,\n",
    "    aws_secret_access_key=AWS_SECRET_KEY,\n",
    "    region_name=AWS_REGION,\n",
    ")"
   ]
  },
  {
   "cell_type": "code",
   "execution_count": null,
   "id": "9e74f6c6",
   "metadata": {},
   "outputs": [],
   "source": [
    "Dict = {}\n",
    "def download_and_load_query_results(client: boto3.client, query_response: Dict) -> pd.DataFrame:\n",
    "    while True:\n",
    "        try:\n",
    "            # This function only loads the first 1000 rows\n",
    "            client.get_query_results(QueryExecutionId=query_response['QueryExecutionId'])\n",
    "            break\n",
    "        except Exception as err:\n",
    "            if \"not yet finished\" in str(err):\n",
    "                time.sleep(0.001)\n",
    "            else:\n",
    "                raise err\n",
    "    temp_file_location: str = \"athena_query_results.csv\"\n",
    "    s3_client = boto3.client(\n",
    "        \"s3\",\n",
    "        aws_access_key_id=AWS_ACCESS_KEY,\n",
    "        aws_secret_access_key=AWS_SECRET_KEY,\n",
    "        region_name=AWS_REGION,\n",
    "        )\n",
    "    s3_client.download_file(\n",
    "        S3_BUCKET_NAME,\n",
    "        f\"{S3_OUTPUT_DIRECTORY}/{query_response['QueryExecutionId']}.csv\",\n",
    "        temp_file_location,\n",
    "    )\n",
    "#     print(temp_file_location)\n",
    "    return pd.read_csv(temp_file_location)"
   ]
  },
  {
   "cell_type": "code",
   "execution_count": null,
   "id": "dee57072",
   "metadata": {},
   "outputs": [],
   "source": [
    "response = athena_client.start_query_execution(\n",
    "    QueryString=\"select * from countrycode\",\n",
    "    QueryExecutionContext={\"Database\": SCHEMA_NAME},\n",
    "    ResultConfiguration={\n",
    "        \"OutputLocation\": S3_STAGING_DIR,\n",
    "        \"EncryptionConfiguration\": {\"EncryptionOption\": \"SSE_S3\"}\n",
    "    },\n",
    ")\n",
    "# df_data = download_and_load_query_results(athena_client, response)"
   ]
  },
  {
   "cell_type": "markdown",
   "id": "36966f30",
   "metadata": {},
   "source": [
    "# The following is example of response format we get after athena query execution:\n",
    "{'QueryExecutionId': '3c111625-3fd8-4bcc-92f1-ac24c61116f2',\n",
    " 'ResponseMetadata': {'RequestId': '73ef74da-4e1d-41fb-984f-9216bf06f1d6',\n",
    "  'HTTPStatusCode': 200,\n",
    "  'HTTPHeaders': {'date': 'Mon, 12 Feb 2024 22:47:14 GMT',\n",
    "   'content-type': 'application/x-amz-json-1.1',\n",
    "   'content-length': '59',\n",
    "   'connection': 'keep-alive',\n",
    "   'x-amzn-requestid': '73ef74da-4e1d-41fb-984f-9216bf06f1d6'},\n",
    "  'RetryAttempts': 0}}"
   ]
  },
  {
   "cell_type": "code",
   "execution_count": null,
   "id": "da9d5003",
   "metadata": {},
   "outputs": [],
   "source": [
    "table = [\"countrycode\", \"countypopulation\", \"enigma_jhud\", \"rearc_usa_hospital_beds\", \"state_abv\", \"states_daily\", \"us_county\", \"us_daily\", \"us_states\", \"us_total_latest\"]\n",
    "result = {}\n",
    "for table_name in table:\n",
    "    response = athena_client.start_query_execution(\n",
    "        QueryString=\"select * from \" + table_name,\n",
    "        QueryExecutionContext={\"Database\": SCHEMA_NAME},\n",
    "        ResultConfiguration={\n",
    "            \"OutputLocation\": S3_STAGING_DIR,\n",
    "            \"EncryptionConfiguration\": {\"EncryptionOption\": \"SSE_S3\"}\n",
    "        },\n",
    "    )\n",
    "    result[table_name] = download_and_load_query_results(athena_client, response)"
   ]
  },
  {
   "cell_type": "code",
   "execution_count": null,
   "id": "f5964bef",
   "metadata": {},
   "outputs": [],
   "source": [
    "for key, val in result.items():\n",
    "    print(f\"Table name: {key}\")\n",
    "    print(val.head())\n",
    "    print()"
   ]
  },
  {
   "cell_type": "markdown",
   "id": "4c72df19",
   "metadata": {},
   "source": [
    "Looking the the above print of tables, \"state_abv\" table it's header is displayed as a record. \n",
    "So let's fix that using the following code."
   ]
  },
  {
   "cell_type": "code",
   "execution_count": null,
   "id": "0893e741",
   "metadata": {},
   "outputs": [],
   "source": [
    "new_header = result[\"state_abv\"].iloc[0]"
   ]
  },
  {
   "cell_type": "code",
   "execution_count": null,
   "id": "a5a26e04",
   "metadata": {},
   "outputs": [],
   "source": [
    "new_header"
   ]
  },
  {
   "cell_type": "code",
   "execution_count": null,
   "id": "47679549",
   "metadata": {},
   "outputs": [],
   "source": [
    "result[\"state_abv\"].columns = new_header\n",
    "result[\"state_abv\"] = result[\"state_abv\"].drop(0)\n",
    "result[\"state_abv\"].head()"
   ]
  },
  {
   "cell_type": "code",
   "execution_count": null,
   "id": "c08f829a",
   "metadata": {},
   "outputs": [],
   "source": [
    "result['enigma_jhud'].head() "
   ]
  },
  {
   "cell_type": "code",
   "execution_count": null,
   "id": "db58c005",
   "metadata": {
    "scrolled": false
   },
   "outputs": [],
   "source": [
    "result['us_daily'].head()"
   ]
  },
  {
   "cell_type": "code",
   "execution_count": null,
   "id": "b08b5284",
   "metadata": {},
   "outputs": [],
   "source": [
    "fact_covid_1 = result['enigma_jhud'][['fips','province_state','country_region','confirmed','deaths','recovered','active']]\n",
    "fact_covid_2 = result['states_daily'][['fips','date','positive','negative','hospitalizedcurrently','hospitalized','hospitalizeddischarged']]\n",
    "fact_covid = pd.merge(fact_covid_1, fact_covid_2, on='fips', how='inner')"
   ]
  },
  {
   "cell_type": "code",
   "execution_count": null,
   "id": "266bb82c",
   "metadata": {},
   "outputs": [],
   "source": [
    "fact_covid.head()"
   ]
  },
  {
   "cell_type": "code",
   "execution_count": null,
   "id": "236b8c3a",
   "metadata": {},
   "outputs": [],
   "source": [
    "fact_covid.shape"
   ]
  },
  {
   "cell_type": "code",
   "execution_count": null,
   "id": "4250ba0d",
   "metadata": {},
   "outputs": [],
   "source": [
    "dim_region_1 = result['enigma_jhud'][['fips','province_state','country_region','latitude','longitude']]\n",
    "dim_region_2 = result['us_county'][['fips','county','state']]\n",
    "dim_region = pd.merge(dim_region_1, dim_region_2, on='fips', how='inner')"
   ]
  },
  {
   "cell_type": "code",
   "execution_count": null,
   "id": "4721be1e",
   "metadata": {},
   "outputs": [],
   "source": [
    "dim_region.head()"
   ]
  },
  {
   "cell_type": "code",
   "execution_count": null,
   "id": "5f8e42dc",
   "metadata": {},
   "outputs": [],
   "source": [
    "dim_region.shape"
   ]
  },
  {
   "cell_type": "code",
   "execution_count": null,
   "id": "2ccbe9ac",
   "metadata": {},
   "outputs": [],
   "source": [
    "dim_hospital = result['rearc_usa_hospital_beds'][['fips','state_name','latitude','longtitude','hq_address','hospital_name','hospital_type','hq_city','hq_state']]"
   ]
  },
  {
   "cell_type": "code",
   "execution_count": null,
   "id": "26ce1528",
   "metadata": {},
   "outputs": [],
   "source": [
    "dim_hospital.head()"
   ]
  },
  {
   "cell_type": "code",
   "execution_count": null,
   "id": "78851acd",
   "metadata": {},
   "outputs": [],
   "source": [
    "dim_date = result['states_daily'][['fips','date']]"
   ]
  },
  {
   "cell_type": "code",
   "execution_count": null,
   "id": "1d1723c9",
   "metadata": {},
   "outputs": [],
   "source": [
    "dim_date.head()"
   ]
  },
  {
   "cell_type": "code",
   "execution_count": null,
   "id": "9ba4da44",
   "metadata": {},
   "outputs": [],
   "source": [
    "dim_date.shape"
   ]
  },
  {
   "cell_type": "code",
   "execution_count": null,
   "id": "29a929d5",
   "metadata": {},
   "outputs": [],
   "source": [
    "dim_date['date'] = pd.to_datetime(dim_date['date'], format='%Y%m%d')"
   ]
  },
  {
   "cell_type": "code",
   "execution_count": null,
   "id": "876d455f",
   "metadata": {
    "scrolled": true
   },
   "outputs": [],
   "source": [
    "dim_date.head()"
   ]
  },
  {
   "cell_type": "code",
   "execution_count": null,
   "id": "bb04a696",
   "metadata": {},
   "outputs": [],
   "source": [
    "dim_date['year'] = dim_date['date'].dt.year\n",
    "dim_date['month'] = dim_date['date'].dt.month\n",
    "dim_date['day_of_week'] = dim_date['date'].dt.dayofweek"
   ]
  },
  {
   "cell_type": "code",
   "execution_count": null,
   "id": "26135cd6",
   "metadata": {},
   "outputs": [],
   "source": [
    "dim_date.head()"
   ]
  },
  {
   "cell_type": "code",
   "execution_count": null,
   "id": "c638a2be",
   "metadata": {},
   "outputs": [],
   "source": [
    "s3_resource = boto3.resource('s3',\n",
    "    aws_access_key_id=AWS_ACCESS_KEY,\n",
    "    aws_secret_access_key= AWS_SECRET_KEY)"
   ]
  },
  {
   "cell_type": "code",
   "execution_count": null,
   "id": "b54ca59d",
   "metadata": {},
   "outputs": [],
   "source": [
    "bucket = \"aman-covid-19-output\""
   ]
  },
  {
   "cell_type": "code",
   "execution_count": null,
   "id": "ba183c6f",
   "metadata": {},
   "outputs": [],
   "source": [
    "csv_buffer = StringIO()\n",
    "fact_covid.to_csv(csv_buffer)\n",
    "s3_resource.Object(bucket, 'output/fact_covid.csv').put(Body=csv_buffer.getvalue())"
   ]
  },
  {
   "cell_type": "code",
   "execution_count": null,
   "id": "86abde6a",
   "metadata": {},
   "outputs": [],
   "source": [
    "dim_region.to_csv(csv_buffer)\n",
    "s3_resource.Object(bucket, 'output/dim_region.csv').put(Body=csv_buffer.getvalue())"
   ]
  },
  {
   "cell_type": "code",
   "execution_count": null,
   "id": "2242dc20",
   "metadata": {},
   "outputs": [],
   "source": [
    "dim_hospital.to_csv(csv_buffer)\n",
    "s3_resource.Object(bucket, 'output/dim_hospital.csv').put(Body=csv_buffer.getvalue())"
   ]
  },
  {
   "cell_type": "code",
   "execution_count": null,
   "id": "1dbbf9f3",
   "metadata": {},
   "outputs": [],
   "source": [
    "dim_date.to_csv(csv_buffer)\n",
    "s3_resource.Object(bucket, 'output/dim_date.csv').put(Body=csv_buffer.getvalue())"
   ]
  },
  {
   "cell_type": "code",
   "execution_count": null,
   "id": "3372cc28",
   "metadata": {},
   "outputs": [],
   "source": []
  }
 ],
 "metadata": {
  "kernelspec": {
   "display_name": "Python 3 (ipykernel)",
   "language": "python",
   "name": "python3"
  },
  "language_info": {
   "codemirror_mode": {
    "name": "ipython",
    "version": 3
   },
   "file_extension": ".py",
   "mimetype": "text/x-python",
   "name": "python",
   "nbconvert_exporter": "python",
   "pygments_lexer": "ipython3",
   "version": "3.7.0"
  }
 },
 "nbformat": 4,
 "nbformat_minor": 5
}
